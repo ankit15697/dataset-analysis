{
  "nbformat": 4,
  "nbformat_minor": 0,
  "metadata": {
    "colab": {
      "name": "mnist-data-visualization.ipynb",
      "provenance": [],
      "mount_file_id": "1Oz5jF_neqjFAcWj_oartz6DCFweN5Eij",
      "authorship_tag": "ABX9TyNOwJH8ylxl/TvELDOQSXjz",
      "include_colab_link": true
    },
    "kernelspec": {
      "name": "python3",
      "display_name": "Python 3"
    }
  },
  "cells": [
    {
      "cell_type": "markdown",
      "metadata": {
        "id": "view-in-github",
        "colab_type": "text"
      },
      "source": [
        "<a href=\"https://colab.research.google.com/github/ankit15697/dataset-analysis/blob/master/mnist_data_visualization.ipynb\" target=\"_parent\"><img src=\"https://colab.research.google.com/assets/colab-badge.svg\" alt=\"Open In Colab\"/></a>"
      ]
    },
    {
      "cell_type": "markdown",
      "metadata": {
        "id": "Cx5iZt-BHgAf",
        "colab_type": "text"
      },
      "source": [
        "In this notebook, I will visualize MNIST data set using PCA\n",
        "Dataset was downloaded from kaggle : [Kaggle MNIST Data Set](https://www.kaggle.com/c/digit-recognizer/data\n",
        ")"
      ]
    },
    {
      "cell_type": "code",
      "metadata": {
        "id": "_HOVS5I1HStt",
        "colab_type": "code",
        "colab": {}
      },
      "source": [
        "#importing modules\n",
        "import numpy as np\n",
        "import pandas as pd\n",
        "import matplotlib.pyplot as plt\n"
      ],
      "execution_count": 6,
      "outputs": []
    },
    {
      "cell_type": "code",
      "metadata": {
        "id": "clwlcmiTIooh",
        "colab_type": "code",
        "colab": {
          "base_uri": "https://localhost:8080/",
          "height": 104
        },
        "outputId": "f18503d0-3fd3-482a-e145-e9a20b42991a"
      },
      "source": [
        "#loading dataset as pandas data frame\n",
        "dataset = pd.read_csv(\"/content/drive/My Drive/data-sets/mnist-train.csv\");\n",
        "print(dataset.head(2))"
      ],
      "execution_count": 8,
      "outputs": [
        {
          "output_type": "stream",
          "text": [
            "   label  pixel0  pixel1  pixel2  ...  pixel780  pixel781  pixel782  pixel783\n",
            "0      1       0       0       0  ...         0         0         0         0\n",
            "1      0       0       0       0  ...         0         0         0         0\n",
            "\n",
            "[2 rows x 785 columns]\n"
          ],
          "name": "stdout"
        }
      ]
    }
  ]
}